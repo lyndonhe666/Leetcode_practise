{
 "cells": [
  {
   "cell_type": "markdown",
   "metadata": {},
   "source": [
    "In a row of dominoes, A[i] and B[i] represent the top and bottom halves of the i-th domino.  (A domino is a tile with two numbers from 1 to 6 - one on each half of the tile.)\n",
    "\n",
    "We may rotate the i-th domino, so that A[i] and B[i] swap values.\n",
    "\n",
    "Return the minimum number of rotations so that all the values in A are the same, or all the values in B are the same.\n",
    "\n",
    "If it cannot be done, return -1."
   ]
  },
  {
   "cell_type": "code",
   "execution_count": 59,
   "metadata": {},
   "outputs": [],
   "source": [
    "def minDOminoRotations(A,B):\n",
    "    # find most common class in A and B\n",
    "    if A==B:\n",
    "        return 0\n",
    "    else:\n",
    "        def find_m(l1):\n",
    "            l_dict = {}\n",
    "            for i in l1:\n",
    "                if i in l_dict.keys():\n",
    "                    l_dict[i]+=1\n",
    "                else:\n",
    "                    l_dict[i]=1\n",
    "            return {key:value for key,value in l_dict.items() if value==max(l_dict.values())}\n",
    "\n",
    "        A_common = find_m(A)\n",
    "        B_common = find_m(B)\n",
    "        # compare to see which one is the most common\n",
    "        target = (list(A_common.keys())[0],A,B) if max(A_common.values()) >= max(B_common.values()) else (list(B_common.keys())[0],B,A)\n",
    "        print(target)\n",
    "        # find the index in the target list\n",
    "        indexes = [index for index,element in enumerate(target[1]) if target[0]!=element]\n",
    "        if len(indexes)==0:\n",
    "            return 0\n",
    "        else:\n",
    "            if min([target[2][i]==target[0] for i in indexes])==1:\n",
    "                return len(indexes)\n",
    "            else:\n",
    "                return -1\n",
    "    "
   ]
  },
  {
   "cell_type": "code",
   "execution_count": 60,
   "metadata": {},
   "outputs": [],
   "source": [
    "A=[0,1,2]\n",
    "B=[2,2,2]"
   ]
  },
  {
   "cell_type": "code",
   "execution_count": 61,
   "metadata": {},
   "outputs": [],
   "source": [
    "A=[2,1,2,4,2,2]\n",
    "B=[5,2,6,2,3,2]"
   ]
  },
  {
   "cell_type": "code",
   "execution_count": 81,
   "metadata": {},
   "outputs": [],
   "source": [
    "# self created case that is not contained in the sample cases\n",
    "# A=[5,5,2,2,2]\n",
    "# B=[2,1,5,5,5]"
   ]
  },
  {
   "cell_type": "code",
   "execution_count": 82,
   "metadata": {},
   "outputs": [
    {
     "data": {
      "text/plain": [
       "2"
      ]
     },
     "execution_count": 82,
     "metadata": {},
     "output_type": "execute_result"
    }
   ],
   "source": [
    "minDOminoRotations(A,B)"
   ]
  },
  {
   "cell_type": "code",
   "execution_count": 79,
   "metadata": {},
   "outputs": [],
   "source": [
    "# provided solution\n",
    "def minDOminoRotations(A,B):\n",
    "    def check(x):\n",
    "        \"\"\"\n",
    "        Return min number of swaps \n",
    "        if one could make all elements in A or B equal to x.\n",
    "        Else return -1.\n",
    "        \"\"\"\n",
    "        # how many rotations should be done\n",
    "        # to have all elements in A equal to x\n",
    "        # and to have all elements in B equal to x\n",
    "        rotations_a = rotations_b = 0\n",
    "        for i in range(n):\n",
    "            # rotations coudn't be done\n",
    "            if A[i] != x and B[i] != x:\n",
    "                return -1\n",
    "            # A[i] != x and B[i] == x\n",
    "            elif A[i] != x:\n",
    "                rotations_a += 1\n",
    "            # A[i] == x and B[i] != x    \n",
    "            elif B[i] != x:\n",
    "                rotations_b += 1\n",
    "        # min number of rotations to have all\n",
    "        # elements equal to x in A or B\n",
    "        return min(rotations_a, rotations_b)\n",
    "\n",
    "    n = len(A)\n",
    "    rotations = check(A[0]) \n",
    "    # If one could make all elements in A or B equal to A[0]\n",
    "    if rotations != -1 or A[0] == B[0]:\n",
    "        return rotations \n",
    "    # If one could make all elements in A or B equal to B[0]\n",
    "    else:\n",
    "        return check(B[0])"
   ]
  },
  {
   "cell_type": "code",
   "execution_count": 80,
   "metadata": {},
   "outputs": [
    {
     "data": {
      "text/plain": [
       "2"
      ]
     },
     "execution_count": 80,
     "metadata": {},
     "output_type": "execute_result"
    }
   ],
   "source": [
    "minDOminoRotations(A,B)"
   ]
  },
  {
   "cell_type": "code",
   "execution_count": null,
   "metadata": {},
   "outputs": [],
   "source": []
  }
 ],
 "metadata": {
  "kernelspec": {
   "display_name": "Python 3",
   "language": "python",
   "name": "python3"
  },
  "language_info": {
   "codemirror_mode": {
    "name": "ipython",
    "version": 3
   },
   "file_extension": ".py",
   "mimetype": "text/x-python",
   "name": "python",
   "nbconvert_exporter": "python",
   "pygments_lexer": "ipython3",
   "version": "3.7.1"
  }
 },
 "nbformat": 4,
 "nbformat_minor": 2
}
