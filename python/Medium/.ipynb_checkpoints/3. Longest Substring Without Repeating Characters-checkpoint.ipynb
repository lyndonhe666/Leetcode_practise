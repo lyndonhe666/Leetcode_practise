{
 "cells": [
  {
   "cell_type": "markdown",
   "metadata": {},
   "source": [
    "Given a string, find the length of the longest substring without repeating characters."
   ]
  },
  {
   "cell_type": "code",
   "execution_count": 45,
   "metadata": {},
   "outputs": [],
   "source": [
    "def lengthOfLongestSubstring(s):\n",
    "    if len(s)==0:\n",
    "        return \n",
    "    c_max = 1\n",
    "    for i in range(len(s)):\n",
    "        for x in range(c_max,len(s)-i):\n",
    "            if len(set(s[i:i+x]))==x:\n",
    "                c_max = max(c_max, x)\n",
    "    return c_max"
   ]
  },
  {
   "cell_type": "code",
   "execution_count": 43,
   "metadata": {},
   "outputs": [],
   "source": [
    "# modified version: return the substring\n",
    "def lengthOfLongestSubstring(s):\n",
    "    c_max = 0\n",
    "    i_max = 0\n",
    "    for i in range(len(s)):\n",
    "        for x in range(c_max,len(s)-i+1):\n",
    "            if len(set(s[i:i+x]))==x:\n",
    "                c_max = max(c_max, x)\n",
    "                i_max = i\n",
    "    return s[i_max:i_max+c_max]"
   ]
  },
  {
   "cell_type": "code",
   "execution_count": 46,
   "metadata": {},
   "outputs": [
    {
     "data": {
      "text/plain": [
       "4"
      ]
     },
     "execution_count": 46,
     "metadata": {},
     "output_type": "execute_result"
    }
   ],
   "source": [
    "lengthOfLongestSubstring(\"abcda\")"
   ]
  },
  {
   "cell_type": "markdown",
   "metadata": {},
   "source": [
    "Notice: exceed time limitation, need further modification"
   ]
  }
 ],
 "metadata": {
  "kernelspec": {
   "display_name": "Python 3",
   "language": "python",
   "name": "python3"
  },
  "language_info": {
   "codemirror_mode": {
    "name": "ipython",
    "version": 3
   },
   "file_extension": ".py",
   "mimetype": "text/x-python",
   "name": "python",
   "nbconvert_exporter": "python",
   "pygments_lexer": "ipython3",
   "version": "3.7.1"
  }
 },
 "nbformat": 4,
 "nbformat_minor": 2
}
