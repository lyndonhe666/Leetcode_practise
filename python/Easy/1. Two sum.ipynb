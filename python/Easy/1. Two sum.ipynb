{
 "cells": [
  {
   "cell_type": "code",
   "execution_count": 17,
   "metadata": {},
   "outputs": [],
   "source": [
    "# 1.Two Sum\n",
    "# Given an array of integers, return indices of the two numbers such that they add up to a specific target. You may assume that each input would have exactly one solution, and you may not use the same element twice.\n",
    "def twoSum(nums, target):\n",
    "    # loop over each element, find a number that makes element+x=target, get the index of x\n",
    "    for i,num in enumerate(nums):\n",
    "        x = target - num\n",
    "        try:\n",
    "            if i != nums.index(x):\n",
    "                return [i,nums.index(x)]\n",
    "        except:\n",
    "            pass"
   ]
  },
  {
   "cell_type": "code",
   "execution_count": 29,
   "metadata": {},
   "outputs": [],
   "source": [
    "# 7.Reverse int\n",
    "def reverse(x):\n",
    "    result = int(str(x)[::-1]) if x >=0 else -int(str((abs(x)))[::-1])\n",
    "    if -2**31 <= result <= 2**31-1:\n",
    "        return result\n",
    "    else:\n",
    "        return 0"
   ]
  },
  {
   "cell_type": "code",
   "execution_count": null,
   "metadata": {},
   "outputs": [],
   "source": []
  }
 ],
 "metadata": {
  "kernelspec": {
   "display_name": "Python 3",
   "language": "python",
   "name": "python3"
  },
  "language_info": {
   "codemirror_mode": {
    "name": "ipython",
    "version": 3
   },
   "file_extension": ".py",
   "mimetype": "text/x-python",
   "name": "python",
   "nbconvert_exporter": "python",
   "pygments_lexer": "ipython3",
   "version": "3.7.1"
  }
 },
 "nbformat": 4,
 "nbformat_minor": 2
}
